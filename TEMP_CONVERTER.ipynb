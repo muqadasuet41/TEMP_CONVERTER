{
  "nbformat": 4,
  "nbformat_minor": 0,
  "metadata": {
    "colab": {
      "provenance": [],
      "authorship_tag": "ABX9TyOk15jOzzbG3Pfjxn6hivBr",
      "include_colab_link": true
    },
    "kernelspec": {
      "name": "python3",
      "display_name": "Python 3"
    },
    "language_info": {
      "name": "python"
    }
  },
  "cells": [
    {
      "cell_type": "markdown",
      "metadata": {
        "id": "view-in-github",
        "colab_type": "text"
      },
      "source": [
        "<a href=\"https://colab.research.google.com/github/muqadasuet41/TEMP_CONVERTER/blob/main/TEMP_CONVERTER.ipynb\" target=\"_parent\"><img src=\"https://colab.research.google.com/assets/colab-badge.svg\" alt=\"Open In Colab\"/></a>"
      ]
    },
    {
      "cell_type": "code",
      "execution_count": null,
      "metadata": {
        "colab": {
          "base_uri": "https://localhost:8080/"
        },
        "id": "Wz8DU-dQUewm",
        "outputId": "af3cc366-8508-4c61-ab45-9fa338de6af0"
      },
      "outputs": [
        {
          "output_type": "stream",
          "name": "stdout",
          "text": [
            "Temperature Converter\n",
            "1. Celsius to Fahrenheit\n",
            "2. Fahrenheit to Celsius\n",
            "Enter your choice (1 or 2): 1\n",
            "Enter temperature in Celsius: 50\n",
            "50.0°C is equal to 122.0°F\n"
          ]
        }
      ],
      "source": [
        "# Function to convert Celsius to Fahrenheit\n",
        "def celsius_to_fahrenheit(celsius):\n",
        "    return (celsius * 9/5) + 32\n",
        "\n",
        "# Function to convert Fahrenheit to Celsius\n",
        "def fahrenheit_to_celsius(fahrenheit):\n",
        "    return (fahrenheit - 32) * 5/9\n",
        "\n",
        "# Main logic to take user input and call the appropriate conversion function\n",
        "def temperature_converter():\n",
        "    print(\"Temperature Converter\")\n",
        "    print(\"1. Celsius to Fahrenheit\")\n",
        "    print(\"2. Fahrenheit to Celsius\")\n",
        "\n",
        "    choice = int(input(\"Enter your choice (1 or 2): \"))\n",
        "\n",
        "    if choice == 1:\n",
        "        celsius = float(input(\"Enter temperature in Celsius: \"))\n",
        "        fahrenheit = celsius_to_fahrenheit(celsius)\n",
        "        print(f\"{celsius}°C is equal to {fahrenheit}°F\")\n",
        "\n",
        "    elif choice == 2:\n",
        "        fahrenheit = float(input(\"Enter temperature in Fahrenheit: \"))\n",
        "        celsius = fahrenheit_to_celsius(fahrenheit)\n",
        "        print(f\"{fahrenheit}°F is equal to {celsius}°C\")\n",
        "\n",
        "    else:\n",
        "        print(\"Invalid choice! Please select either 1 or 2.\")\n",
        "\n",
        "# Run the converter\n",
        "temperature_converter()\n"
      ]
    }
  ]
}